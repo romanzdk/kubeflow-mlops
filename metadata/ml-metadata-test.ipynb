{
 "cells": [
  {
   "cell_type": "code",
   "execution_count": 16,
   "metadata": {},
   "outputs": [],
   "source": [
    "import ml_metadata as mlmd\n",
    "from ml_metadata.metadata_store import metadata_store\n",
    "from ml_metadata.proto import metadata_store_pb2"
   ]
  },
  {
   "cell_type": "code",
   "execution_count": 17,
   "metadata": {},
   "outputs": [],
   "source": [
    "connection_config = metadata_store_pb2.ConnectionConfig()\n",
    "connection_config.mysql.host = 'localhost'\n",
    "connection_config.mysql.port = 3036\n",
    "connection_config.mysql.database = 'metadata'\n",
    "connection_config.mysql.user = 'root'\n",
    "connection_config.mysql.password = 'password'\n",
    "store = metadata_store.MetadataStore(connection_config)"
   ]
  },
  {
   "cell_type": "code",
   "execution_count": 18,
   "metadata": {},
   "outputs": [],
   "source": [
    "# Create ArtifactTypes, e.g., Data and Model\n",
    "data_type = metadata_store_pb2.ArtifactType()\n",
    "data_type.name = \"DataSet\"\n",
    "data_type.properties[\"day\"] = metadata_store_pb2.INT\n",
    "data_type.properties[\"split\"] = metadata_store_pb2.STRING\n",
    "data_type_id = store.put_artifact_type(data_type)\n",
    "\n",
    "model_type = metadata_store_pb2.ArtifactType()\n",
    "model_type.name = \"SavedModel\"\n",
    "model_type.properties[\"version\"] = metadata_store_pb2.INT\n",
    "model_type.properties[\"name\"] = metadata_store_pb2.STRING\n",
    "model_type_id = store.put_artifact_type(model_type)\n",
    "\n",
    "# Query all registered Artifact types.\n",
    "artifact_types = store.get_artifact_types()"
   ]
  },
  {
   "cell_type": "code",
   "execution_count": 19,
   "metadata": {},
   "outputs": [],
   "source": [
    "# Create an ExecutionType, e.g., Trainer\n",
    "trainer_type = metadata_store_pb2.ExecutionType()\n",
    "trainer_type.name = \"Trainer\"\n",
    "trainer_type.properties[\"state\"] = metadata_store_pb2.STRING\n",
    "trainer_type_id = store.put_execution_type(trainer_type)\n",
    "\n",
    "# Query a registered Execution type with the returned id\n",
    "[registered_type] = store.get_execution_types_by_id([trainer_type_id])"
   ]
  },
  {
   "cell_type": "code",
   "execution_count": 20,
   "metadata": {},
   "outputs": [],
   "source": [
    "# Create an input artifact of type DataSet\n",
    "data_artifact = metadata_store_pb2.Artifact()\n",
    "data_artifact.uri = 'path/to/data'\n",
    "data_artifact.properties[\"day\"].int_value = 1\n",
    "data_artifact.properties[\"split\"].string_value = 'train'\n",
    "data_artifact.type_id = data_type_id\n",
    "[data_artifact_id] = store.put_artifacts([data_artifact])\n",
    "\n",
    "# Query all registered Artifacts\n",
    "artifacts = store.get_artifacts()\n",
    "\n",
    "# Plus, there are many ways to query the same Artifact\n",
    "[stored_data_artifact] = store.get_artifacts_by_id([data_artifact_id])\n",
    "artifacts_with_uri = store.get_artifacts_by_uri(data_artifact.uri)\n",
    "artifacts_with_conditions = store.get_artifacts(\n",
    "      list_options=mlmd.ListOptions(\n",
    "          filter_query='uri LIKE \"%/data\" AND properties.day.int_value > 0'))\n"
   ]
  },
  {
   "cell_type": "code",
   "execution_count": 21,
   "metadata": {},
   "outputs": [],
   "source": [
    "# Register the Execution of a Trainer run\n",
    "trainer_run = metadata_store_pb2.Execution()\n",
    "trainer_run.type_id = trainer_type_id\n",
    "trainer_run.properties[\"state\"].string_value = \"RUNNING\"\n",
    "[run_id] = store.put_executions([trainer_run])\n",
    "\n",
    "# Query all registered Execution\n",
    "executions = store.get_executions_by_id([run_id])\n",
    "# Similarly, the same execution can be queried with conditions.\n",
    "executions_with_conditions = store.get_executions(\n",
    "    list_options = mlmd.ListOptions(\n",
    "        filter_query='type = \"Trainer\" AND properties.state.string_value IS NOT NULL'))\n"
   ]
  },
  {
   "cell_type": "code",
   "execution_count": 22,
   "metadata": {},
   "outputs": [],
   "source": [
    "# Define the input event\n",
    "input_event = metadata_store_pb2.Event()\n",
    "input_event.artifact_id = data_artifact_id\n",
    "input_event.execution_id = run_id\n",
    "input_event.type = metadata_store_pb2.Event.DECLARED_INPUT\n",
    "\n",
    "# Record the input event in the metadata8.store\n",
    "store.put_events([input_event])\n"
   ]
  },
  {
   "cell_type": "code",
   "execution_count": 23,
   "metadata": {},
   "outputs": [],
   "source": [
    "# Declare the output artifact of type SavedModel\n",
    "model_artifact = metadata_store_pb2.Artifact()\n",
    "model_artifact.uri = 'path/to/model/file'\n",
    "model_artifact.properties[\"version\"].int_value = 1\n",
    "model_artifact.properties[\"name\"].string_value = 'MNIST-v1'\n",
    "model_artifact.type_id = model_type_id\n",
    "[model_artifact_id] = store.put_artifacts([model_artifact])\n"
   ]
  },
  {
   "cell_type": "code",
   "execution_count": 24,
   "metadata": {},
   "outputs": [],
   "source": [
    "# Declare the output event\n",
    "output_event = metadata_store_pb2.Event()\n",
    "output_event.artifact_id = model_artifact_id\n",
    "output_event.execution_id = run_id\n",
    "output_event.type = metadata_store_pb2.Event.DECLARED_OUTPUT\n",
    "\n",
    "# Submit output event to the Metadata Store\n",
    "store.put_events([output_event])\n"
   ]
  },
  {
   "cell_type": "code",
   "execution_count": 25,
   "metadata": {},
   "outputs": [
    {
     "data": {
      "text/plain": [
       "[1]"
      ]
     },
     "execution_count": 25,
     "metadata": {},
     "output_type": "execute_result"
    }
   ],
   "source": [
    "trainer_run.id = run_id\n",
    "trainer_run.properties[\"state\"].string_value = \"COMPLETED\"\n",
    "store.put_executions([trainer_run])\n"
   ]
  },
  {
   "cell_type": "code",
   "execution_count": 26,
   "metadata": {},
   "outputs": [],
   "source": [
    "# Create a ContextType, e.g., Experiment with a note property\n",
    "experiment_type = metadata_store_pb2.ContextType()\n",
    "experiment_type.name = \"Experiment\"\n",
    "experiment_type.properties[\"note\"] = metadata_store_pb2.STRING\n",
    "experiment_type_id = store.put_context_type(experiment_type)\n",
    "\n",
    "# Group the model and the trainer run to an experiment.\n",
    "my_experiment = metadata_store_pb2.Context()\n",
    "my_experiment.type_id = experiment_type_id\n",
    "# Give the experiment a name\n",
    "my_experiment.name = \"exp1\"\n",
    "my_experiment.properties[\"note\"].string_value = \"My first experiment.\"\n",
    "[experiment_id] = store.put_contexts([my_experiment])\n",
    "\n",
    "attribution = metadata_store_pb2.Attribution()\n",
    "attribution.artifact_id = model_artifact_id\n",
    "attribution.context_id = experiment_id\n",
    "\n",
    "association = metadata_store_pb2.Association()\n",
    "association.execution_id = run_id\n",
    "association.context_id = experiment_id\n",
    "\n",
    "store.put_attributions_and_associations([attribution], [association])\n",
    "\n",
    "# Query the Artifacts and Executions that are linked to the Context.\n",
    "experiment_artifacts = store.get_artifacts_by_context(experiment_id)\n",
    "experiment_executions = store.get_executions_by_context(experiment_id)\n",
    "\n",
    "# You can also use neighborhood queries to fetch these artifacts and executions\n",
    "# with conditions.\n",
    "experiment_artifacts_with_conditions = store.get_artifacts(\n",
    "    list_options = mlmd.ListOptions(\n",
    "        filter_query=('contexts_a.type = \"Experiment\" AND contexts_a.name = \"exp1\"')))\n",
    "experiment_executions_with_conditions = store.get_executions(\n",
    "    list_options = mlmd.ListOptions(\n",
    "        filter_query=('contexts_a.id = {}'.format(experiment_id))))\n"
   ]
  },
  {
   "cell_type": "code",
   "execution_count": null,
   "metadata": {},
   "outputs": [],
   "source": []
  }
 ],
 "metadata": {
  "interpreter": {
   "hash": "c4aa2cdd9957e32721eba19eb889fea6e330cd3d2a064d5e6b544c16b88019ac"
  },
  "kernelspec": {
   "display_name": "Python 3.10.0 64-bit ('3.10.0': pyenv)",
   "language": "python",
   "name": "python3"
  },
  "language_info": {
   "codemirror_mode": {
    "name": "ipython",
    "version": 3
   },
   "file_extension": ".py",
   "mimetype": "text/x-python",
   "name": "python",
   "nbconvert_exporter": "python",
   "pygments_lexer": "ipython3",
   "version": "3.8.6"
  },
  "orig_nbformat": 4
 },
 "nbformat": 4,
 "nbformat_minor": 2
}
