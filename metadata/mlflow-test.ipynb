{
 "cells": [
  {
   "cell_type": "code",
   "execution_count": 1,
   "metadata": {},
   "outputs": [],
   "source": [
    "import mlflow\n",
    "import mlflow.sklearn\n",
    "import numpy as np\n",
    "from dotenv import load_dotenv\n",
    "from sklearn.linear_model import LogisticRegression"
   ]
  },
  {
   "cell_type": "code",
   "execution_count": 2,
   "metadata": {},
   "outputs": [],
   "source": [
    "remote_server_uri = \"http://localhost:4444\" # using server because of the ability to setup default artifact store\n",
    "mlflow.set_tracking_uri(remote_server_uri)\n",
    "mlflow.end_run(\"RUNNING\")\n",
    "\n",
    "load_dotenv(\"metadata/mlflow/.env\")"
   ]
  },
  {
   "cell_type": "code",
   "execution_count": null,
   "metadata": {},
   "outputs": [],
   "source": [
    "mlflow.set_experiment(\"e1\")\n",
    "\n",
    "with mlflow.start_run():\n",
    "    mlflow.log_param(\"a\", 1)\n",
    "    mlflow.log_metric(\"b\", 2)"
   ]
  },
  {
   "cell_type": "code",
   "execution_count": null,
   "metadata": {},
   "outputs": [],
   "source": [
    "mlflow.set_experiment(\"e2\")\n",
    "\n",
    "X = np.array([-2, -1, 0, 1, 2, 1]).reshape(-1, 1)\n",
    "y = np.array([0, 0, 1, 1, 1, 0])\n",
    "lr = LogisticRegression()\n",
    "lr.fit(X, y)\n",
    "score = lr.score(X, y)\n",
    "print(\"Score: %s\" % score)\n",
    "with mlflow.start_run():\n",
    "    mlflow.log_metric(\"score\", score)\n",
    "    mlflow.sklearn.log_model(lr, \"model\")"
   ]
  },
  {
   "cell_type": "code",
   "execution_count": null,
   "metadata": {},
   "outputs": [],
   "source": []
  }
 ],
 "metadata": {
  "interpreter": {
   "hash": "623808755de6c7874ab400323d7c5bcb1246f4e1aeaab0d2d792bdb79a7a540e"
  },
  "kernelspec": {
   "display_name": "Python 3.8.6 64-bit ('3.8.6': pyenv)",
   "language": "python",
   "name": "python3"
  },
  "language_info": {
   "codemirror_mode": {
    "name": "ipython",
    "version": 3
   },
   "file_extension": ".py",
   "mimetype": "text/x-python",
   "name": "python",
   "nbconvert_exporter": "python",
   "pygments_lexer": "ipython3",
   "version": "3.8.6"
  },
  "orig_nbformat": 4
 },
 "nbformat": 4,
 "nbformat_minor": 2
}
